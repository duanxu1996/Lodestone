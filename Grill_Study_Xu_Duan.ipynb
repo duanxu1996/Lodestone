{
  "nbformat": 4,
  "nbformat_minor": 0,
  "metadata": {
    "colab": {
      "name": "Grill_Study_Xu_Duan.ipynb",
      "provenance": [],
      "collapsed_sections": []
    },
    "kernelspec": {
      "name": "python3",
      "display_name": "Python 3"
    },
    "language_info": {
      "name": "python"
    }
  },
  "cells": [
    {
      "cell_type": "code",
      "metadata": {
        "id": "VgfC4UbP322w"
      },
      "source": [
        "import seaborn as sns\n",
        "import pandas as pd\n",
        "import matplotlib.pyplot as plt\n",
        "import numpy as np\n",
        "import seaborn as sns\n",
        "import json \n",
        "\n",
        "sns.set()\n",
        "sheetADf = pd.read_csv('/content/drive/MyDrive/SheetA.csv')\n",
        "sheetBDf = pd.read_csv('/content/drive/MyDrive/SheetB.csv')\n",
        "sheetCDf = pd.read_csv('/content/drive/MyDrive/SheetC.csv')\n"
      ],
      "execution_count": 12,
      "outputs": []
    },
    {
      "cell_type": "code",
      "metadata": {
        "colab": {
          "base_uri": "https://localhost:8080/"
        },
        "id": "rlNj-D_z0ggv",
        "outputId": "a4b0674d-8123-43f1-a8c7-088109d5ff72"
      },
      "source": [
        "from google.colab import drive\n",
        "drive.mount('/content/drive')"
      ],
      "execution_count": 2,
      "outputs": [
        {
          "output_type": "stream",
          "text": [
            "Mounted at /content/drive\n"
          ],
          "name": "stdout"
        }
      ]
    },
    {
      "cell_type": "markdown",
      "metadata": {
        "id": "j1d5BxmU3mw6"
      },
      "source": [
        "Question 1: Name each sheet/table so they are meaningful standalone"
      ]
    },
    {
      "cell_type": "markdown",
      "metadata": {
        "id": "FyMVviZM5o_2"
      },
      "source": [
        "1. SheetA: Grill_General_Comparison \n",
        "2. SheetB: Cooking_Quality\n",
        "3. SheetC: Test_result"
      ]
    },
    {
      "cell_type": "markdown",
      "metadata": {
        "id": "TLKD8Ska3rvv"
      },
      "source": [
        "Question 2:\n",
        "Which grill type is more fuel efficent based on sheet A"
      ]
    },
    {
      "cell_type": "code",
      "metadata": {
        "colab": {
          "base_uri": "https://localhost:8080/",
          "height": 419
        },
        "id": "BLeKVzxz375M",
        "outputId": "6b2bfa57-6e6d-4040-e162-3ec24bc7c510"
      },
      "source": [
        "plt.figure(figsize=(5, 5))\n",
        "sns.catplot(x=\"grill_type\", y=\"fuel_cost_per_meal\", kind=\"bar\", data=sheetADf)\n"
      ],
      "execution_count": 13,
      "outputs": [
        {
          "output_type": "execute_result",
          "data": {
            "text/plain": [
              "<seaborn.axisgrid.FacetGrid at 0x7f8a9748b410>"
            ]
          },
          "metadata": {
            "tags": []
          },
          "execution_count": 13
        },
        {
          "output_type": "display_data",
          "data": {
            "text/plain": [
              "<Figure size 360x360 with 0 Axes>"
            ]
          },
          "metadata": {
            "tags": []
          }
        },
        {
          "output_type": "display_data",
          "data": {
            "image/png": "[encoded data removed]",
            "text/plain": [
              "<Figure size 360x360 with 1 Axes>"
            ]
          },
          "metadata": {
            "tags": []
          }
        }
      ]
    },
    {
      "cell_type": "code",
      "metadata": {
        "id": "CMvFfrGG6h9D"
      },
      "source": [
        "plt.savefig(u'answer2.png')\n",
        "plt.close()"
      ],
      "execution_count": null,
      "outputs": []
    },
    {
      "cell_type": "markdown",
      "metadata": {
        "id": "Pv5iXbNg3tT3"
      },
      "source": [
        "Question 3: Which grill type has more market share"
      ]
    },
    {
      "cell_type": "code",
      "metadata": {
        "colab": {
          "base_uri": "https://localhost:8080/",
          "height": 401
        },
        "id": "rERiGg3x4E4j",
        "outputId": "6ee50e92-8693-4047-ae01-7f1509453ac1"
      },
      "source": [
        "sns.catplot(x=\"grill_type\", y=\"market_share\", kind=\"bar\", data=sheetADf)\n"
      ],
      "execution_count": 14,
      "outputs": [
        {
          "output_type": "execute_result",
          "data": {
            "text/plain": [
              "<seaborn.axisgrid.FacetGrid at 0x7f8a92b3ae50>"
            ]
          },
          "metadata": {
            "tags": []
          },
          "execution_count": 14
        },
        {
          "output_type": "display_data",
          "data": {
            "image/png": "[encoded data removed]",
            "text/plain": [
              "<Figure size 360x360 with 1 Axes>"
            ]
          },
          "metadata": {
            "tags": []
          }
        }
      ]
    },
    {
      "cell_type": "code",
      "metadata": {
        "id": "vfD836zB6nGd"
      },
      "source": [
        "plt.savefig(u'answer3.png')\n",
        "plt.close()"
      ],
      "execution_count": null,
      "outputs": []
    },
    {
      "cell_type": "markdown",
      "metadata": {
        "id": "RRVTB_BV3uZ5"
      },
      "source": [
        "Question 4: Base on cookoff data which grill type cost more fuel on a long run"
      ]
    },
    {
      "cell_type": "code",
      "metadata": {
        "colab": {
          "base_uri": "https://localhost:8080/",
          "height": 401
        },
        "id": "5DdDUkyr4Gni",
        "outputId": "fd7f7004-221e-4a12-a44f-9f006b7d1f57"
      },
      "source": [
        "sheetBDf2  = sheetBDf.copy()\n",
        "sheetBDf2.sort_values(by=['grill_type','fuel_cost'],inplace=True)\n",
        "sheetBDf2.reset_index(inplace=True)\n",
        "sns.relplot(x='index',y=\"fuel_cost\", hue=\"grill_type\", kind=\"line\", data=sheetBDf2)\n"
      ],
      "execution_count": 15,
      "outputs": [
        {
          "output_type": "execute_result",
          "data": {
            "text/plain": [
              "<seaborn.axisgrid.FacetGrid at 0x7f8a92be8b10>"
            ]
          },
          "metadata": {
            "tags": []
          },
          "execution_count": 15
        },
        {
          "output_type": "display_data",
          "data": {
            "image/png": "[encoded data removed]",
            "text/plain": [
              "<Figure size 448.1x360 with 1 Axes>"
            ]
          },
          "metadata": {
            "tags": []
          }
        }
      ]
    },
    {
      "cell_type": "code",
      "metadata": {
        "id": "2jqJ4wmn6to2"
      },
      "source": [
        "plt.savefig(u'answer4_1.png')\n",
        "plt.close()"
      ],
      "execution_count": null,
      "outputs": []
    },
    {
      "cell_type": "code",
      "metadata": {
        "colab": {
          "base_uri": "https://localhost:8080/",
          "height": 401
        },
        "id": "HImZEp_36sPE",
        "outputId": "50f91a4b-5ec6-400f-bcf7-bd592ced1710"
      },
      "source": [
        "sheetBDf2 = sheetBDf2.groupby('grill_type',as_index=False).mean()\n",
        "sns.catplot(x='grill_type',y=\"fuel_cost\",kind=\"bar\", data=sheetBDf2)\n"
      ],
      "execution_count": 16,
      "outputs": [
        {
          "output_type": "execute_result",
          "data": {
            "text/plain": [
              "<seaborn.axisgrid.FacetGrid at 0x7f8a973ce290>"
            ]
          },
          "metadata": {
            "tags": []
          },
          "execution_count": 16
        },
        {
          "output_type": "display_data",
          "data": {
            "image/png": "[encoded data removed]",
            "text/plain": [
              "<Figure size 360x360 with 1 Axes>"
            ]
          },
          "metadata": {
            "tags": []
          }
        }
      ]
    },
    {
      "cell_type": "code",
      "metadata": {
        "id": "Bizwd40q6urP"
      },
      "source": [
        "plt.savefig(u'answer4_2.png')\n",
        "plt.close()"
      ],
      "execution_count": null,
      "outputs": []
    },
    {
      "cell_type": "markdown",
      "metadata": {
        "id": "CXqnh1XL3vln"
      },
      "source": [
        "Question 5: considering that the average American grill owner buys a new grill every three years. Which grill type would cost more based on the fuel cost and initial investment"
      ]
    },
    {
      "cell_type": "code",
      "metadata": {
        "colab": {
          "base_uri": "https://localhost:8080/",
          "height": 401
        },
        "id": "wp3lKVmI4ar-",
        "outputId": "e45603fe-bf12-45c6-9354-aa8d7f513bcc"
      },
      "source": [
        "meals_per_day = 3\n",
        "newDf = {}\n",
        "newDf['days'] = list(range(1,365*3,1))\n",
        "newDf['cost'] = [59+x*2*meals_per_day for x in newDf['days']]\n",
        "df1 = pd.DataFrame(newDf)\n",
        "df1['grill_type'] = 'Charcoal'\n",
        "newDf['days'] = list(range(1,365*3,1))\n",
        "newDf['cost'] = [119+x*1.55*meals_per_day for x in newDf['days']]\n",
        "#Here I made change to original data, which decrease the initial price down by 20\n",
        "df2 = pd.DataFrame(newDf)\n",
        "df2['grill_type'] = 'Propane'\n",
        "df = df1.append(df2)\n",
        "\n",
        "sns.relplot(x='days',y=\"cost\", hue=\"grill_type\", kind=\"line\", data=df)\n",
        "\n"
      ],
      "execution_count": 21,
      "outputs": [
        {
          "output_type": "execute_result",
          "data": {
            "text/plain": [
              "<seaborn.axisgrid.FacetGrid at 0x7f8a928045d0>"
            ]
          },
          "metadata": {
            "tags": []
          },
          "execution_count": 21
        },
        {
          "output_type": "display_data",
          "data": {
            "image/png": "[encoded data removed]",
            "text/plain": [
              "<Figure size 448.1x360 with 1 Axes>"
            ]
          },
          "metadata": {
            "tags": []
          }
        }
      ]
    },
    {
      "cell_type": "code",
      "metadata": {
        "id": "v37-FSLE7GVq"
      },
      "source": [
        "plt.savefig(u'answer5.png')\n",
        "plt.close()"
      ],
      "execution_count": null,
      "outputs": []
    },
    {
      "cell_type": "markdown",
      "metadata": {
        "id": "dKX2bUZ83yeT"
      },
      "source": [
        "Question 6:Which grill type is easier to use baed on the user satisfaction score? Based on data, which grill is preferred? What factors might play a role?"
      ]
    },
    {
      "cell_type": "code",
      "metadata": {
        "colab": {
          "base_uri": "https://localhost:8080/",
          "height": 401
        },
        "id": "GwShnoHp4c75",
        "outputId": "6d006e06-e05c-4d9f-d5e6-1e85e5e0e3c5"
      },
      "source": [
        "sheetBDf2  = sheetBDf.copy()\n",
        "sheetBDf2.sort_values(by=['grill_type','user_satisfaction'],inplace=True)\n",
        "sheetBDf2.reset_index(inplace=True)\n",
        "sns.relplot(x='index',y=\"user_satisfaction\", hue=\"grill_type\", kind=\"line\", data=sheetBDf2)"
      ],
      "execution_count": 18,
      "outputs": [
        {
          "output_type": "execute_result",
          "data": {
            "text/plain": [
              "<seaborn.axisgrid.FacetGrid at 0x7f8a929bc750>"
            ]
          },
          "metadata": {
            "tags": []
          },
          "execution_count": 18
        },
        {
          "output_type": "display_data",
          "data": {
            "image/png": "[encoded data removed]",
            "text/plain": [
              "<Figure size 448.1x360 with 1 Axes>"
            ]
          },
          "metadata": {
            "tags": []
          }
        }
      ]
    },
    {
      "cell_type": "code",
      "metadata": {
        "id": "61Po_bgm7Q41"
      },
      "source": [
        "plt.savefig(u'answer6_1.png')\n",
        "plt.close()"
      ],
      "execution_count": null,
      "outputs": []
    },
    {
      "cell_type": "code",
      "metadata": {
        "colab": {
          "base_uri": "https://localhost:8080/",
          "height": 401
        },
        "id": "qi0yhiQ_7Smn",
        "outputId": "b012c30c-29d8-4bd8-f9c9-cf66dd5faed7"
      },
      "source": [
        "sheetBDf2 = sheetBDf2.groupby('grill_type',as_index=False).mean()\n",
        "sheetBDf2 = sheetBDf2.groupby('grill_type',as_index=False).mean()\n",
        "sns.catplot(x='grill_type',y=\"user_satisfaction\",kind=\"bar\", data=sheetBDf2)"
      ],
      "execution_count": 19,
      "outputs": [
        {
          "output_type": "execute_result",
          "data": {
            "text/plain": [
              "<seaborn.axisgrid.FacetGrid at 0x7f8a929e1590>"
            ]
          },
          "metadata": {
            "tags": []
          },
          "execution_count": 19
        },
        {
          "output_type": "display_data",
          "data": {
            "image/png": "[encoded data removed]",
            "text/plain": [
              "<Figure size 360x360 with 1 Axes>"
            ]
          },
          "metadata": {
            "tags": []
          }
        }
      ]
    },
    {
      "cell_type": "code",
      "metadata": {
        "id": "poZLvaih7VNe"
      },
      "source": [
        "plt.savefig(u'answer6_2.png')\n",
        "plt.close()"
      ],
      "execution_count": null,
      "outputs": []
    },
    {
      "cell_type": "code",
      "metadata": {
        "colab": {
          "base_uri": "https://localhost:8080/",
          "height": 401
        },
        "id": "nn9Zquv-7WSC",
        "outputId": "45ba399e-0bf8-43ad-d301-872750a86e4b"
      },
      "source": [
        "sns.catplot(x='grill_type',y=\"pre_heat_time\",kind=\"bar\", data=sheetADf)"
      ],
      "execution_count": 20,
      "outputs": [
        {
          "output_type": "execute_result",
          "data": {
            "text/plain": [
              "<seaborn.axisgrid.FacetGrid at 0x7f8a927d1e10>"
            ]
          },
          "metadata": {
            "tags": []
          },
          "execution_count": 20
        },
        {
          "output_type": "display_data",
          "data": {
            "image/png": "[encoded data removed]",
            "text/plain": [
              "<Figure size 360x360 with 1 Axes>"
            ]
          },
          "metadata": {
            "tags": []
          }
        }
      ]
    },
    {
      "cell_type": "code",
      "metadata": {
        "id": "9oijzDO37XWj"
      },
      "source": [
        "plt.savefig(u'answer6_3.png')\n",
        "plt.close()"
      ],
      "execution_count": null,
      "outputs": []
    },
    {
      "cell_type": "markdown",
      "metadata": {
        "id": "PepLDBkr3zdB"
      },
      "source": [
        "Question 7: Please generate an aggregated dataset to present your conclusions."
      ]
    },
    {
      "cell_type": "code",
      "metadata": {
        "id": "l9v5GiJU4fRx"
      },
      "source": [
        "conclusions = {}\n",
        "conclusions['grill_type'] = ['Charcoal','Propane']\n",
        "conclusions['more_efficent'] = ['no','yes']\n",
        "conclusions['more_fuel_long_run'] = ['yes','no']\n",
        "conclusions['more_cost'] = ['yes','no']\n",
        "conclusions['more_easier'] = ['no','yes']\n",
        "conclusions['more_preferred'] = ['no','yes']\n",
        "conclusions['key_role'] = ['pre heat time','pre heat time']\n",
        "conclusions = pd.DataFrame(conclusions)\n",
        "conclusions.to_excel('conclusions.xls')\n",
        "\n"
      ],
      "execution_count": null,
      "outputs": []
    },
    {
      "cell_type": "markdown",
      "metadata": {
        "id": "pbP-EAVf30nT"
      },
      "source": [
        "Question 8: Are your recommendations to the manufacturer different to recommendations you'd make to user?"
      ]
    },
    {
      "cell_type": "markdown",
      "metadata": {
        "id": "QERidqOYDUUk"
      },
      "source": [
        "Yes the recommendations would be different.\n",
        "1. To manufacturer: If the user wants to even the cost for propane grill, he or she has to grill at least 134 times a year, which is highly unlikely. Hence the manufacturer could raise the price for charchol grill or lower the price for propane grill and the user would still pay for it.\n",
        "\n",
        "2. To user: Depends on the need of grill per year, he or she should be making decisions by considering the price difference."
      ]
    },
    {
      "cell_type": "markdown",
      "metadata": {
        "id": "looNkHMv5UCV"
      },
      "source": [
        "Bonus: Transform SheetC.json to SheetC.csv"
      ]
    },
    {
      "cell_type": "code",
      "metadata": {
        "id": "hMPqOKuS1dyI"
      },
      "source": [
        "\n",
        "import pandas as pd\n",
        "import copy\n",
        "# import xls_write\n",
        "import xlwt\n",
        "import json\n",
        "\n",
        "def json2xls(josnData,xlsRoute):\n",
        "\n",
        "    josnDict =dict(josnData)\n",
        "    resultList = dictRecursionParse(josnDict)\n",
        "\n",
        "    excel_wt = xlwt.Workbook()\n",
        "    a=xls_write.sheet_WC(excel_wt,'aa')\n",
        "    a.write_rows(list2plan(resultList))\n",
        "\n",
        "    excel_wt.save(xlsRoute)\n",
        "\n",
        "def dictRecursionParse(dictData,keyGradesList=[]):\n",
        "\n",
        "    resultList = []\n",
        "    if not isinstance(dictData,dict):\n",
        "        \n",
        "        raise NameError('NotDict',dictData)\n",
        "    for key,value in dictData.items():\n",
        "        currentKeyGradesList = copy.copy(keyGradesList)\n",
        "        currentKeyGradesList.append(key)\n",
        "        if  isinstance(value,dict):\n",
        "            \n",
        "            sonResultList = dictRecursionParse(value,currentKeyGradesList)\n",
        "            resultList.extend(sonResultList)\n",
        "        elif isinstance(value,list):\n",
        "            \n",
        "            \n",
        "            for i in range(len(value)):\n",
        "                currentKeyGradesList2 = copy.copy(currentKeyGradesList)\n",
        "                currentKeyGradesList2.append(str(i))\n",
        "                if isinstance(value[i],dict):\n",
        "                    \n",
        "                    sonResultList = dictRecursionParse(value[i],currentKeyGradesList2)\n",
        "                    resultList.extend(sonResultList)  \n",
        "                else:\n",
        "                    \n",
        "                    resultList.append([currentKeyGradesList2,value[i]])                    \n",
        "        else:\n",
        "            \n",
        "            resultList.append([currentKeyGradesList,value])\n",
        "    return resultList\n",
        "\n",
        "\n",
        "def list2plan(dataList):\n",
        "\n",
        "    resultList = []\n",
        "    maxLen = 0\n",
        "    for alist in dataList:\n",
        "       \n",
        "        if isinstance(alist[1],str) and len(alist[1])>200:\n",
        "            value = alist[1][:200]\n",
        "        else:\n",
        "            value = alist[1]\n",
        "        alist[0].append(value)\n",
        "        if maxLen<len(alist[0]):\n",
        "            maxLen = len(alist[0])\n",
        "        resultList.append(alist[0])\n",
        "    resultList2 = []\n",
        "    for alist in resultList:\n",
        "        for i in range(maxLen-len(alist)):\n",
        "            alist.insert(-1,'')\n",
        "        resultList2.append(alist)\n",
        "    return resultList2\n"
      ],
      "execution_count": 7,
      "outputs": []
    },
    {
      "cell_type": "code",
      "metadata": {
        "id": "yq6bo2cc1Z4V"
      },
      "source": [
        "#bonus:\n",
        "\n",
        "\n",
        "with open('SheetC.json','r',encoding='utf8')as fp:\n",
        "    json_data = json.load(fp)\n",
        "\n",
        "\n",
        "result_dict = {\n",
        "    'index':[],\n",
        "    'grill_type':[],\n",
        "    'is_frozen':[],\n",
        "    'item_material':[],\n",
        "    'sample_item_index':[],\n",
        "    'guess_grill_correct':[],\n",
        "    'thumbs_up_score':[]\n",
        "}\n",
        "json_data2 = json.loads(json_data[0]['test_result'])\n",
        "\n",
        "for key,value in json_data2.items():\n",
        "    result_dict['index'].append(key)\n",
        "    result_dict['grill_type'].append(value['meta_data']['grill_type'])\n",
        "    result_dict['is_frozen'].append(value['meta_data']['is_frozen'])\n",
        "    result_dict['item_material'].append(value['meta_data']['item_material'])\n",
        "    result_dict['sample_item_index'].append(value['sample_item_index'])\n",
        "    result_dict['guess_grill_correct'].append(value['survey_result']['guess_grill_correct'])\n",
        "    result_dict['thumbs_up_score'].append(value['survey_result']['thumbs_up_score'])\n",
        "\n",
        "df = pd.DataFrame(result_dict)\n",
        "df.to_csv('bonus.csv')\n",
        "\n"
      ],
      "execution_count": 10,
      "outputs": []
    }
  ]
}